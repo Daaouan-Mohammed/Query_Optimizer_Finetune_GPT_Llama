{
 "cells": [
  {
   "cell_type": "markdown",
   "id": "35e77e94-a5ee-4e86-bc1d-d4f652d04953",
   "metadata": {},
   "source": [
    "# OpenAI Fine-tuning API \"Neo Optimizer\""
   ]
  },
  {
   "cell_type": "markdown",
   "id": "770a1d4f-8d1f-4b95-a5e6-4ab8d4ae5e17",
   "metadata": {},
   "source": [
    "### import modules"
   ]
  },
  {
   "cell_type": "code",
   "execution_count": 10,
   "id": "0441db10-1aa1-4877-949e-166636bf145a",
   "metadata": {},
   "outputs": [
    {
     "data": {
      "text/plain": [
       "True"
      ]
     },
     "execution_count": 10,
     "metadata": {},
     "output_type": "execute_result"
    }
   ],
   "source": [
    "from openai import OpenAI\n",
    "from dotenv import load_dotenv\n",
    "import csv\n",
    "import json\n",
    "import random\n",
    "import os\n",
    "load_dotenv()"
   ]
  },
  {
   "cell_type": "markdown",
   "id": "68ae0f70-7224-44f7-b0ff-39ea3e6498c0",
   "metadata": {},
   "source": [
    "### create client"
   ]
  },
  {
   "cell_type": "code",
   "execution_count": 11,
   "id": "2050a44a-ebca-4dd7-8214-2377b3b5db85",
   "metadata": {},
   "outputs": [],
   "source": [
    "my_skey = os.getenv(\"OPENAI_API_KEY\")\n",
    "client = OpenAI(api_key=my_skey)"
   ]
  },
  {
   "cell_type": "markdown",
   "id": "2f83c2c9-34bd-4035-8b89-b4892d3803c6",
   "metadata": {},
   "source": [
    "### prepare training data"
   ]
  },
  {
   "cell_type": "code",
   "execution_count": 30,
   "id": "01e0af20-a91a-4845-85f2-6ab967247c26",
   "metadata": {},
   "outputs": [],
   "source": [
    "# load csv of YouTube comments\n",
    "\n",
    "query_list = []\n",
    "optimized_query_list = []\n",
    "\n",
    "with open('dataDataSet.csv', mode ='r') as file:\n",
    "    file = csv.reader(file)\n",
    "    \n",
    "    # read file line by line\n",
    "    for line in file:\n",
    "        # skip first line\n",
    "        if line[0]=='query':\n",
    "            continue\n",
    "            \n",
    "        # append comments and responses to respective lists\n",
    "        query_list.append(line[0])\n",
    "        optimized_query_list.append(line[1] + \" -ShawGPT\")"
   ]
  },
  {
   "cell_type": "code",
   "execution_count": 31,
   "id": "032ea2f8-cdcb-49ab-9686-539306650403",
   "metadata": {
    "tags": []
   },
   "outputs": [
    {
     "data": {
      "text/plain": [
       "38"
      ]
     },
     "execution_count": 31,
     "metadata": {},
     "output_type": "execute_result"
    }
   ],
   "source": [
    "len(query_list)"
   ]
  },
  {
   "cell_type": "code",
   "execution_count": 38,
   "id": "f7464c42-988f-4fea-937a-5d54f3c3b893",
   "metadata": {},
   "outputs": [],
   "source": [
    "# construct training examples\n",
    "example_list = []\n",
    "\n",
    "intstructions_string_few_shot = \"\"\"ShawGPT, You are a chatbot specializing in optimizing SQL queries within the Oracle syntax ecosystem. Your primary functionality is to receive SQL queries from users and provide them with optimized versions for better performance. \\\n",
    "\n",
    "Here are examples of ShawGPT responding to queries.\n",
    "\n",
    "query: SELECT * FROM Professor WHERE first_name = 'John';\n",
    "ShawGPT: SELECT professor_id, last_name FROM Professor WHERE first_name = 'John' INDEX(first_name);  -ShawGPT\n",
    "\n",
    "query: SELECT * FROM Course WHERE course_code = 'MATH101';\n",
    "ShawGPT: SELECT course_id, course_name, credit_hours FROM Course WHERE course_code = 'MATH101' INDEX(course_code);  -ShawGPT\n",
    "\n",
    "query: SELECT * FROM Enrollment WHERE student_id IN (10, 20, 30);\n",
    "ShawGPT: SELECT course_id FROM Enrollment WHERE student_id IN (10, 20, 30) INDEX(student_id); -ShawGPT\"\"\"\n",
    "\n",
    "for i in range(len(query_list)):    \n",
    "    system_dict = {\"role\": \"system\", \"content\": intstructions_string_few_shot}\n",
    "    user_dict = {\"role\": \"user\", \"content\": query_list[i]}\n",
    "    assistant_dict = {\"role\": \"assistant\", \"content\": optimized_query_list[i]}\n",
    "    \n",
    "    messages_list = [system_dict, user_dict, assistant_dict]\n",
    "    \n",
    "    example_list.append({\"messages\": messages_list})"
   ]
  },
  {
   "cell_type": "code",
   "execution_count": 39,
   "id": "86095500-368c-4038-9607-ef81756d7af0",
   "metadata": {
    "tags": []
   },
   "outputs": [],
   "source": [
    "# create train/validation split\n",
    "validation_index_list = random.sample(range(0, len(example_list)-1), 9)\n",
    "\n",
    "validation_data_list = [example_list[index] for index in validation_index_list]\n",
    "\n",
    "for example in validation_data_list:\n",
    "    example_list.remove(example)"
   ]
  },
  {
   "cell_type": "code",
   "execution_count": 40,
   "id": "efecacf8-78cd-4138-bbdc-d1a904498371",
   "metadata": {},
   "outputs": [],
   "source": [
    "# write examples to file\n",
    "with open('data/training-data.jsonl', 'w') as training_file:\n",
    "    for example in example_list:\n",
    "        json.dump(example, training_file)\n",
    "        training_file.write('\\n')\n",
    "\n",
    "with open('data/validation-data.jsonl', 'w') as validation_file:\n",
    "    for example in validation_data_list:\n",
    "        json.dump(example, validation_file)\n",
    "        validation_file.write('\\n')"
   ]
  },
  {
   "cell_type": "markdown",
   "id": "9bdb1d91-e09d-4e62-85d6-e1c752713b73",
   "metadata": {},
   "source": [
    "### upload training examples to openai api"
   ]
  },
  {
   "cell_type": "code",
   "execution_count": 41,
   "id": "9acc14a1-eced-48b4-b9f6-1b6fd761502d",
   "metadata": {
    "tags": []
   },
   "outputs": [],
   "source": [
    "training_file = client.files.create(\n",
    "  file = open(\"data/training-data.jsonl\", \"rb\"),\n",
    "  purpose = \"fine-tune\"\n",
    ")\n",
    "\n",
    "validation_file = client.files.create(\n",
    "  file = open(\"data/validation-data.jsonl\", \"rb\"),\n",
    "  purpose = \"fine-tune\"\n",
    ")"
   ]
  },
  {
   "cell_type": "markdown",
   "id": "accc40bd-6296-425d-bb0c-564682ed6fcd",
   "metadata": {},
   "source": [
    "### create a fine-tuned model"
   ]
  },
  {
   "cell_type": "code",
   "execution_count": 42,
   "id": "db1090c8-fa58-4fb0-9f73-626cb2aaeeb0",
   "metadata": {
    "tags": []
   },
   "outputs": [
    {
     "data": {
      "text/plain": [
       "FineTuningJob(id='ftjob-zbSaFTFwBvPjjZPTh4Sj4Zgo', created_at=1707660200, error=Error(code=None, message=None, param=None, error=None), fine_tuned_model=None, finished_at=None, hyperparameters=Hyperparameters(n_epochs='auto', batch_size='auto', learning_rate_multiplier='auto'), model='gpt-3.5-turbo-0613', object='fine_tuning.job', organization_id='org-K9BB640pBH3H5vq7s9XXo0zd', result_files=[], status='validating_files', trained_tokens=None, training_file='file-tyf1U4QNbQqH34aADKIBTUPu', validation_file='file-Y4Sn2L90xwlmL1miMFjUWxNO')"
      ]
     },
     "execution_count": 42,
     "metadata": {},
     "output_type": "execute_result"
    }
   ],
   "source": [
    "client.fine_tuning.jobs.create(\n",
    "    training_file = training_file.id,\n",
    "    validation_file = validation_file.id,\n",
    "    suffix = \"ShawGPT\",\n",
    "    model = \"gpt-3.5-turbo\"\n",
    ")"
   ]
  },
  {
   "cell_type": "markdown",
   "id": "7a18db72-569e-428c-ad63-c32252ca1a1c",
   "metadata": {},
   "source": [
    "### use fine-tuned model"
   ]
  },
  {
   "cell_type": "code",
   "execution_count": 63,
   "id": "1c63f203-3e21-4acf-a5ed-82081b9c6a3e",
   "metadata": {
    "tags": []
   },
   "outputs": [],
   "source": [
    "test_query = \"\"\"SELECT employees.employee_id, employees.first_name, employees.last_name, departments.department_name\n",
    "FROM employees\n",
    "JOIN departments ON employees.department_id = departments.department_id\n",
    "WHERE employees.salary > 50000;\"\"\""
   ]
  },
  {
   "cell_type": "code",
   "execution_count": 64,
   "id": "573b43f4-5fd9-40e9-8f98-7bb5ced1b0ef",
   "metadata": {
    "tags": []
   },
   "outputs": [],
   "source": [
    "response = client.chat.completions.create(\n",
    "    model=\"gpt-3.5-turbo\",\n",
    "    messages=[\n",
    "    {\"role\": \"system\", \"content\": intstructions_string_few_shot},\n",
    "    {\"role\": \"user\", \"content\": test_query}\n",
    "    ]\n",
    ")"
   ]
  },
  {
   "cell_type": "code",
   "execution_count": 65,
   "id": "380a16c1-312d-4b1a-b2a8-ad9f69eb9193",
   "metadata": {
    "scrolled": true,
    "tags": []
   },
   "outputs": [
    {
     "name": "stdout",
     "output_type": "stream",
     "text": [
      "The query you provided looks fine. However, it could benefit from an index on the \"salary\" column of the \"employees\" table to improve performance. Here's the optimized version:\n",
      "\n",
      "SELECT employees.employee_id, employees.first_name, employees.last_name, departments.department_name\n",
      "FROM employees INDEX(salary)\n",
      "JOIN departments ON employees.department_id = departments.department_id\n",
      "WHERE employees.salary > 50000;\n",
      "\n",
      "Adding INDEX(salary) ensures that the database engine uses an index scan on the \"salary\" column, which can speed up the query execution.\n"
     ]
    }
   ],
   "source": [
    "print(dict(response)['choices'][0].message.content)"
   ]
  },
  {
   "cell_type": "code",
   "execution_count": 1,
   "id": "20a31205-59f9-4ffd-9012-9dc41a94caff",
   "metadata": {
    "tags": []
   },
   "outputs": [],
   "source": [
    "# delete file\n",
    "# client.files.delete(training_file.id)\n",
    "# client.files.delete(validation_file.id)"
   ]
  },
  {
   "cell_type": "markdown",
   "id": "978b7a59-a801-4083-b028-587071b13ed3",
   "metadata": {},
   "source": [
    "### More resources\n",
    "\n",
    "OpenAI Guide: https://platform.openai.com/docs/guides/fine-tuning <br>\n",
    "Fine-tuning doc: https://platform.openai.com/docs/api-reference/fine-tuning <br>\n",
    "Fine-tuning data prep: https://cookbook.openai.com/examples/chat_finetuning_data_prep"
   ]
  },
  {
   "cell_type": "code",
   "execution_count": null,
   "id": "8b4a00ba-2a9d-4a8f-aad6-6949fb86d2f5",
   "metadata": {},
   "outputs": [],
   "source": []
  }
 ],
 "metadata": {
  "kernelspec": {
   "display_name": "Python 3 (ipykernel)",
   "language": "python",
   "name": "python3"
  },
  "language_info": {
   "codemirror_mode": {
    "name": "ipython",
    "version": 3
   },
   "file_extension": ".py",
   "mimetype": "text/x-python",
   "name": "python",
   "nbconvert_exporter": "python",
   "pygments_lexer": "ipython3",
   "version": "3.12.1"
  }
 },
 "nbformat": 4,
 "nbformat_minor": 5
}
