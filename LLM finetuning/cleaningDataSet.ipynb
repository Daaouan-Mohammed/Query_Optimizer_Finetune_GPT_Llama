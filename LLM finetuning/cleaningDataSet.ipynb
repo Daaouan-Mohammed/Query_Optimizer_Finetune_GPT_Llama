{
 "cells": [
  {
   "cell_type": "code",
   "execution_count": 4,
   "id": "69e72321-371b-4e6a-a557-32c8149d46a2",
   "metadata": {},
   "outputs": [],
   "source": [
    "import pandas as pd"
   ]
  },
  {
   "cell_type": "code",
   "execution_count": 5,
   "id": "bffb087c-6cc2-4d40-a067-a04301feddf0",
   "metadata": {},
   "outputs": [],
   "source": [
    "# Load the dataset\n",
    "dataset = pd.read_csv('DataSet.csv')"
   ]
  },
  {
   "cell_type": "code",
   "execution_count": 14,
   "id": "490205e0-a9cc-4c67-bad6-6441ece8e2a9",
   "metadata": {},
   "outputs": [
    {
     "data": {
      "text/html": [
       "<div>\n",
       "<style scoped>\n",
       "    .dataframe tbody tr th:only-of-type {\n",
       "        vertical-align: middle;\n",
       "    }\n",
       "\n",
       "    .dataframe tbody tr th {\n",
       "        vertical-align: top;\n",
       "    }\n",
       "\n",
       "    .dataframe thead th {\n",
       "        text-align: right;\n",
       "    }\n",
       "</style>\n",
       "<table border=\"1\" class=\"dataframe\">\n",
       "  <thead>\n",
       "    <tr style=\"text-align: right;\">\n",
       "      <th></th>\n",
       "      <th>query</th>\n",
       "      <th>optimized query</th>\n",
       "    </tr>\n",
       "  </thead>\n",
       "  <tbody>\n",
       "    <tr>\n",
       "      <th>count</th>\n",
       "      <td>315</td>\n",
       "      <td>315</td>\n",
       "    </tr>\n",
       "    <tr>\n",
       "      <th>unique</th>\n",
       "      <td>265</td>\n",
       "      <td>277</td>\n",
       "    </tr>\n",
       "    <tr>\n",
       "      <th>top</th>\n",
       "      <td>CREATE TABLE employees ( employee_id INT PRIMA...</td>\n",
       "      <td>CREATE INDEX idx_sales_profit ON sales(profit);</td>\n",
       "    </tr>\n",
       "    <tr>\n",
       "      <th>freq</th>\n",
       "      <td>3</td>\n",
       "      <td>4</td>\n",
       "    </tr>\n",
       "  </tbody>\n",
       "</table>\n",
       "</div>"
      ],
      "text/plain": [
       "                                                    query  \\\n",
       "count                                                 315   \n",
       "unique                                                265   \n",
       "top     CREATE TABLE employees ( employee_id INT PRIMA...   \n",
       "freq                                                    3   \n",
       "\n",
       "                                        optimized query  \n",
       "count                                               315  \n",
       "unique                                              277  \n",
       "top     CREATE INDEX idx_sales_profit ON sales(profit);  \n",
       "freq                                                  4  "
      ]
     },
     "execution_count": 14,
     "metadata": {},
     "output_type": "execute_result"
    }
   ],
   "source": [
    "dataset.describe()"
   ]
  },
  {
   "cell_type": "code",
   "execution_count": 17,
   "id": "a866d4df-5baa-4fe8-8755-ea79a6408cb3",
   "metadata": {},
   "outputs": [
    {
     "name": "stdout",
     "output_type": "stream",
     "text": [
      "<class 'pandas.core.frame.DataFrame'>\n",
      "RangeIndex: 315 entries, 0 to 314\n",
      "Data columns (total 2 columns):\n",
      " #   Column           Non-Null Count  Dtype \n",
      "---  ------           --------------  ----- \n",
      " 0   query            315 non-null    object\n",
      " 1   optimized query  315 non-null    object\n",
      "dtypes: object(2)\n",
      "memory usage: 5.1+ KB\n"
     ]
    }
   ],
   "source": [
    "dataset.info()"
   ]
  },
  {
   "cell_type": "code",
   "execution_count": 7,
   "id": "e5fb9207-8314-49b2-98ec-433ea36e8e1c",
   "metadata": {},
   "outputs": [],
   "source": [
    "# Remove duplicates based on both 'query' and 'optimized query' columns\n",
    "cleaned_dataset = dataset.drop_duplicates(subset=['query', 'optimized query'])"
   ]
  },
  {
   "cell_type": "code",
   "execution_count": 8,
   "id": "f8da5341-1b1a-4f31-b3f6-976e657b8e5c",
   "metadata": {},
   "outputs": [],
   "source": [
    "# Save the cleaned dataset to a new CSV file\n",
    "cleaned_dataset.to_csv('cleaned_dataset.csv', index=False)"
   ]
  },
  {
   "cell_type": "code",
   "execution_count": 12,
   "id": "c5b0caf1-b944-4ab4-ae11-7d8b3f7ba75b",
   "metadata": {},
   "outputs": [
    {
     "data": {
      "text/html": [
       "<div>\n",
       "<style scoped>\n",
       "    .dataframe tbody tr th:only-of-type {\n",
       "        vertical-align: middle;\n",
       "    }\n",
       "\n",
       "    .dataframe tbody tr th {\n",
       "        vertical-align: top;\n",
       "    }\n",
       "\n",
       "    .dataframe thead th {\n",
       "        text-align: right;\n",
       "    }\n",
       "</style>\n",
       "<table border=\"1\" class=\"dataframe\">\n",
       "  <thead>\n",
       "    <tr style=\"text-align: right;\">\n",
       "      <th></th>\n",
       "      <th>query</th>\n",
       "      <th>optimized query</th>\n",
       "    </tr>\n",
       "  </thead>\n",
       "  <tbody>\n",
       "    <tr>\n",
       "      <th>count</th>\n",
       "      <td>296</td>\n",
       "      <td>296</td>\n",
       "    </tr>\n",
       "    <tr>\n",
       "      <th>unique</th>\n",
       "      <td>265</td>\n",
       "      <td>277</td>\n",
       "    </tr>\n",
       "    <tr>\n",
       "      <th>top</th>\n",
       "      <td>SELECT * FROM Department WHERE department_name...</td>\n",
       "      <td>CREATE INDEX idx_products_price ON products(pr...</td>\n",
       "    </tr>\n",
       "    <tr>\n",
       "      <th>freq</th>\n",
       "      <td>2</td>\n",
       "      <td>3</td>\n",
       "    </tr>\n",
       "  </tbody>\n",
       "</table>\n",
       "</div>"
      ],
      "text/plain": [
       "                                                    query  \\\n",
       "count                                                 296   \n",
       "unique                                                265   \n",
       "top     SELECT * FROM Department WHERE department_name...   \n",
       "freq                                                    2   \n",
       "\n",
       "                                          optimized query  \n",
       "count                                                 296  \n",
       "unique                                                277  \n",
       "top     CREATE INDEX idx_products_price ON products(pr...  \n",
       "freq                                                    3  "
      ]
     },
     "execution_count": 12,
     "metadata": {},
     "output_type": "execute_result"
    }
   ],
   "source": [
    "cleaned_dataset.describe()"
   ]
  },
  {
   "cell_type": "code",
   "execution_count": 18,
   "id": "aa1c992a-3cb5-453e-bb43-58a5eb7824d9",
   "metadata": {},
   "outputs": [
    {
     "name": "stdout",
     "output_type": "stream",
     "text": [
      "<class 'pandas.core.frame.DataFrame'>\n",
      "Index: 296 entries, 0 to 314\n",
      "Data columns (total 2 columns):\n",
      " #   Column           Non-Null Count  Dtype \n",
      "---  ------           --------------  ----- \n",
      " 0   query            296 non-null    object\n",
      " 1   optimized query  296 non-null    object\n",
      "dtypes: object(2)\n",
      "memory usage: 6.9+ KB\n"
     ]
    }
   ],
   "source": [
    "cleaned_dataset.info()"
   ]
  },
  {
   "cell_type": "code",
   "execution_count": 19,
   "id": "874502da-39f0-478f-83cd-cf849b150c7a",
   "metadata": {},
   "outputs": [
    {
     "data": {
      "text/html": [
       "<div>\n",
       "<style scoped>\n",
       "    .dataframe tbody tr th:only-of-type {\n",
       "        vertical-align: middle;\n",
       "    }\n",
       "\n",
       "    .dataframe tbody tr th {\n",
       "        vertical-align: top;\n",
       "    }\n",
       "\n",
       "    .dataframe thead th {\n",
       "        text-align: right;\n",
       "    }\n",
       "</style>\n",
       "<table border=\"1\" class=\"dataframe\">\n",
       "  <thead>\n",
       "    <tr style=\"text-align: right;\">\n",
       "      <th></th>\n",
       "      <th>query</th>\n",
       "      <th>optimized query</th>\n",
       "    </tr>\n",
       "  </thead>\n",
       "  <tbody>\n",
       "    <tr>\n",
       "      <th>0</th>\n",
       "      <td>SELECT * FROM Professor WHERE first_name = 'Jo...</td>\n",
       "      <td>SELECT professor_id, last_name FROM Professor ...</td>\n",
       "    </tr>\n",
       "    <tr>\n",
       "      <th>1</th>\n",
       "      <td>SELECT * FROM Course WHERE course_code = 'MATH...</td>\n",
       "      <td>SELECT course_id, course_name, credit_hours FR...</td>\n",
       "    </tr>\n",
       "    <tr>\n",
       "      <th>2</th>\n",
       "      <td>SELECT * FROM Enrollment WHERE student_id IN (...</td>\n",
       "      <td>SELECT course_id FROM Enrollment WHERE student...</td>\n",
       "    </tr>\n",
       "    <tr>\n",
       "      <th>3</th>\n",
       "      <td>SELECT * FROM Classroom WHERE building_name = ...</td>\n",
       "      <td>SELECT classroom_id, room_number, capacity FRO...</td>\n",
       "    </tr>\n",
       "    <tr>\n",
       "      <th>4</th>\n",
       "      <td>SELECT * FROM Exam WHERE course_id = 1 AND exa...</td>\n",
       "      <td>SELECT exam_id, exam_date, exam_duration FROM ...</td>\n",
       "    </tr>\n",
       "  </tbody>\n",
       "</table>\n",
       "</div>"
      ],
      "text/plain": [
       "                                               query  \\\n",
       "0  SELECT * FROM Professor WHERE first_name = 'Jo...   \n",
       "1  SELECT * FROM Course WHERE course_code = 'MATH...   \n",
       "2  SELECT * FROM Enrollment WHERE student_id IN (...   \n",
       "3  SELECT * FROM Classroom WHERE building_name = ...   \n",
       "4  SELECT * FROM Exam WHERE course_id = 1 AND exa...   \n",
       "\n",
       "                                     optimized query  \n",
       "0  SELECT professor_id, last_name FROM Professor ...  \n",
       "1  SELECT course_id, course_name, credit_hours FR...  \n",
       "2  SELECT course_id FROM Enrollment WHERE student...  \n",
       "3  SELECT classroom_id, room_number, capacity FRO...  \n",
       "4  SELECT exam_id, exam_date, exam_duration FROM ...  "
      ]
     },
     "execution_count": 19,
     "metadata": {},
     "output_type": "execute_result"
    }
   ],
   "source": [
    "cleaned_dataset.head()"
   ]
  }
 ],
 "metadata": {
  "kernelspec": {
   "display_name": "Python 3 (ipykernel)",
   "language": "python",
   "name": "python3"
  },
  "language_info": {
   "codemirror_mode": {
    "name": "ipython",
    "version": 3
   },
   "file_extension": ".py",
   "mimetype": "text/x-python",
   "name": "python",
   "nbconvert_exporter": "python",
   "pygments_lexer": "ipython3",
   "version": "3.11.3"
  }
 },
 "nbformat": 4,
 "nbformat_minor": 5
}
